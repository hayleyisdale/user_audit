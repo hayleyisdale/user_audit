{
 "cells": [
  {
   "cell_type": "code",
   "execution_count": 15,
   "metadata": {},
   "outputs": [],
   "source": [
    "import sys \n",
    "sys.path.insert(1,\"../src\")\n",
    "\n",
    "import hayleys_work\n",
    "\n",
    "df_system_access, df_employees = hayleys_work.load_data()\n",
    "\n"
   ]
  },
  {
   "cell_type": "code",
   "execution_count": 16,
   "metadata": {},
   "outputs": [
    {
     "data": {
      "text/html": [
       "<div>\n",
       "<style scoped>\n",
       "    .dataframe tbody tr th:only-of-type {\n",
       "        vertical-align: middle;\n",
       "    }\n",
       "\n",
       "    .dataframe tbody tr th {\n",
       "        vertical-align: top;\n",
       "    }\n",
       "\n",
       "    .dataframe thead th {\n",
       "        text-align: right;\n",
       "    }\n",
       "</style>\n",
       "<table border=\"1\" class=\"dataframe\">\n",
       "  <thead>\n",
       "    <tr style=\"text-align: right;\">\n",
       "      <th></th>\n",
       "      <th>id</th>\n",
       "      <th>access_level</th>\n",
       "    </tr>\n",
       "  </thead>\n",
       "  <tbody>\n",
       "    <tr>\n",
       "      <th>0</th>\n",
       "      <td>EMP003045</td>\n",
       "      <td>Contract Entry</td>\n",
       "    </tr>\n",
       "    <tr>\n",
       "      <th>1</th>\n",
       "      <td>EMP003051</td>\n",
       "      <td>Contract Entry</td>\n",
       "    </tr>\n",
       "    <tr>\n",
       "      <th>2</th>\n",
       "      <td>EMP003068</td>\n",
       "      <td>Contract Entry</td>\n",
       "    </tr>\n",
       "    <tr>\n",
       "      <th>3</th>\n",
       "      <td>EMP003097</td>\n",
       "      <td>Account Admin</td>\n",
       "    </tr>\n",
       "    <tr>\n",
       "      <th>4</th>\n",
       "      <td>EMP003133</td>\n",
       "      <td>Contract Entry</td>\n",
       "    </tr>\n",
       "  </tbody>\n",
       "</table>\n",
       "</div>"
      ],
      "text/plain": [
       "          id    access_level\n",
       "0  EMP003045  Contract Entry\n",
       "1  EMP003051  Contract Entry\n",
       "2  EMP003068  Contract Entry\n",
       "3  EMP003097   Account Admin\n",
       "4  EMP003133  Contract Entry"
      ]
     },
     "execution_count": 16,
     "metadata": {},
     "output_type": "execute_result"
    }
   ],
   "source": [
    "df_system_access['id'] = df_system_access['id'].apply('EMP{0:0>6}'.format)\n",
    "\n",
    "df_system_access.head()"
   ]
  },
  {
   "cell_type": "code",
   "execution_count": 17,
   "metadata": {
    "scrolled": true
   },
   "outputs": [
    {
     "data": {
      "text/html": [
       "<div>\n",
       "<style scoped>\n",
       "    .dataframe tbody tr th:only-of-type {\n",
       "        vertical-align: middle;\n",
       "    }\n",
       "\n",
       "    .dataframe tbody tr th {\n",
       "        vertical-align: top;\n",
       "    }\n",
       "\n",
       "    .dataframe thead th {\n",
       "        text-align: right;\n",
       "    }\n",
       "</style>\n",
       "<table border=\"1\" class=\"dataframe\">\n",
       "  <thead>\n",
       "    <tr style=\"text-align: right;\">\n",
       "      <th></th>\n",
       "      <th>access_level</th>\n",
       "      <th>first_name</th>\n",
       "      <th>last_name</th>\n",
       "      <th>email</th>\n",
       "      <th>title</th>\n",
       "    </tr>\n",
       "    <tr>\n",
       "      <th>id</th>\n",
       "      <th></th>\n",
       "      <th></th>\n",
       "      <th></th>\n",
       "      <th></th>\n",
       "      <th></th>\n",
       "    </tr>\n",
       "  </thead>\n",
       "  <tbody>\n",
       "    <tr>\n",
       "      <th>EMP003037</th>\n",
       "      <td>NaN</td>\n",
       "      <td>Juliana</td>\n",
       "      <td>Burbudge</td>\n",
       "      <td>juliana.burbudge@consultants.com</td>\n",
       "      <td>Director of Sales</td>\n",
       "    </tr>\n",
       "    <tr>\n",
       "      <th>EMP003045</th>\n",
       "      <td>Contract Entry</td>\n",
       "      <td>Lizzie</td>\n",
       "      <td>Blue</td>\n",
       "      <td>lizzie.blue@consultants.com</td>\n",
       "      <td>Sales Assistant</td>\n",
       "    </tr>\n",
       "    <tr>\n",
       "      <th>EMP003051</th>\n",
       "      <td>Contract Entry</td>\n",
       "      <td>Marjory</td>\n",
       "      <td>Selcraig</td>\n",
       "      <td>marjory.selcraig@consultants.com</td>\n",
       "      <td>Sales Assistant</td>\n",
       "    </tr>\n",
       "    <tr>\n",
       "      <th>EMP003068</th>\n",
       "      <td>Contract Entry</td>\n",
       "      <td>Aguste</td>\n",
       "      <td>O'Connor</td>\n",
       "      <td>aguste.o'connor@consultants.com</td>\n",
       "      <td>Sales Assistant</td>\n",
       "    </tr>\n",
       "    <tr>\n",
       "      <th>EMP003097</th>\n",
       "      <td>Account Admin</td>\n",
       "      <td>Clemens</td>\n",
       "      <td>Kopman</td>\n",
       "      <td>clemens.kopman@consultants.com</td>\n",
       "      <td>Account Manager</td>\n",
       "    </tr>\n",
       "  </tbody>\n",
       "</table>\n",
       "</div>"
      ],
      "text/plain": [
       "             access_level first_name last_name  \\\n",
       "id                                               \n",
       "EMP003037             NaN    Juliana  Burbudge   \n",
       "EMP003045  Contract Entry     Lizzie      Blue   \n",
       "EMP003051  Contract Entry    Marjory  Selcraig   \n",
       "EMP003068  Contract Entry     Aguste  O'Connor   \n",
       "EMP003097   Account Admin    Clemens    Kopman   \n",
       "\n",
       "                                      email              title  \n",
       "id                                                              \n",
       "EMP003037  juliana.burbudge@consultants.com  Director of Sales  \n",
       "EMP003045       lizzie.blue@consultants.com    Sales Assistant  \n",
       "EMP003051  marjory.selcraig@consultants.com    Sales Assistant  \n",
       "EMP003068   aguste.o'connor@consultants.com    Sales Assistant  \n",
       "EMP003097    clemens.kopman@consultants.com    Account Manager  "
      ]
     },
     "execution_count": 17,
     "metadata": {},
     "output_type": "execute_result"
    }
   ],
   "source": [
    "df = hayleys_work.combine_data(df_system_access, df_employees)\n",
    "df.head()"
   ]
  },
  {
   "cell_type": "code",
   "execution_count": 18,
   "metadata": {
    "scrolled": true
   },
   "outputs": [
    {
     "data": {
      "text/plain": [
       "access_level    137\n",
       "first_name        0\n",
       "last_name         0\n",
       "email             0\n",
       "title             0\n",
       "dtype: int64"
      ]
     },
     "execution_count": 18,
     "metadata": {},
     "output_type": "execute_result"
    }
   ],
   "source": [
    "df.isnull().sum()"
   ]
  },
  {
   "cell_type": "code",
   "execution_count": 20,
   "metadata": {},
   "outputs": [
    {
     "data": {
      "text/plain": [
       "access_level     True\n",
       "first_name      False\n",
       "last_name       False\n",
       "email           False\n",
       "title           False\n",
       "dtype: bool"
      ]
     },
     "execution_count": 20,
     "metadata": {},
     "output_type": "execute_result"
    }
   ],
   "source": [
    "df.isnull().any()"
   ]
  },
  {
   "cell_type": "code",
   "execution_count": 22,
   "metadata": {},
   "outputs": [
    {
     "data": {
      "text/html": [
       "<div>\n",
       "<style scoped>\n",
       "    .dataframe tbody tr th:only-of-type {\n",
       "        vertical-align: middle;\n",
       "    }\n",
       "\n",
       "    .dataframe tbody tr th {\n",
       "        vertical-align: top;\n",
       "    }\n",
       "\n",
       "    .dataframe thead th {\n",
       "        text-align: right;\n",
       "    }\n",
       "</style>\n",
       "<table border=\"1\" class=\"dataframe\">\n",
       "  <thead>\n",
       "    <tr style=\"text-align: right;\">\n",
       "      <th></th>\n",
       "      <th>access_level</th>\n",
       "      <th>first_name</th>\n",
       "      <th>last_name</th>\n",
       "      <th>email</th>\n",
       "      <th>title</th>\n",
       "    </tr>\n",
       "    <tr>\n",
       "      <th>id</th>\n",
       "      <th></th>\n",
       "      <th></th>\n",
       "      <th></th>\n",
       "      <th></th>\n",
       "      <th></th>\n",
       "    </tr>\n",
       "  </thead>\n",
       "  <tbody>\n",
       "    <tr>\n",
       "      <th>EMP003037</th>\n",
       "      <td>NaN</td>\n",
       "      <td>Juliana</td>\n",
       "      <td>Burbudge</td>\n",
       "      <td>juliana.burbudge@consultants.com</td>\n",
       "      <td>Director of Sales</td>\n",
       "    </tr>\n",
       "    <tr>\n",
       "      <th>EMP003265</th>\n",
       "      <td>NaN</td>\n",
       "      <td>Natala</td>\n",
       "      <td>Judd</td>\n",
       "      <td>natala.judd@consultants.com</td>\n",
       "      <td>Director of Sales</td>\n",
       "    </tr>\n",
       "    <tr>\n",
       "      <th>EMP003291</th>\n",
       "      <td>NaN</td>\n",
       "      <td>Gweneth</td>\n",
       "      <td>Abbate</td>\n",
       "      <td>gweneth.abbate@consultants.com</td>\n",
       "      <td>Account Manager</td>\n",
       "    </tr>\n",
       "    <tr>\n",
       "      <th>EMP003684</th>\n",
       "      <td>NaN</td>\n",
       "      <td>Annmarie</td>\n",
       "      <td>Scrange</td>\n",
       "      <td>annmarie.scrange@consultants.com</td>\n",
       "      <td>Director of Sales</td>\n",
       "    </tr>\n",
       "    <tr>\n",
       "      <th>EMP003713</th>\n",
       "      <td>NaN</td>\n",
       "      <td>Marybeth</td>\n",
       "      <td>Driussi</td>\n",
       "      <td>marybeth.driussi@consultants.com</td>\n",
       "      <td>Account Manager</td>\n",
       "    </tr>\n",
       "  </tbody>\n",
       "</table>\n",
       "</div>"
      ],
      "text/plain": [
       "          access_level first_name last_name                             email  \\\n",
       "id                                                                              \n",
       "EMP003037          NaN    Juliana  Burbudge  juliana.burbudge@consultants.com   \n",
       "EMP003265          NaN     Natala      Judd       natala.judd@consultants.com   \n",
       "EMP003291          NaN    Gweneth    Abbate    gweneth.abbate@consultants.com   \n",
       "EMP003684          NaN   Annmarie   Scrange  annmarie.scrange@consultants.com   \n",
       "EMP003713          NaN   Marybeth   Driussi  marybeth.driussi@consultants.com   \n",
       "\n",
       "                       title  \n",
       "id                            \n",
       "EMP003037  Director of Sales  \n",
       "EMP003265  Director of Sales  \n",
       "EMP003291    Account Manager  \n",
       "EMP003684  Director of Sales  \n",
       "EMP003713    Account Manager  "
      ]
     },
     "execution_count": 22,
     "metadata": {},
     "output_type": "execute_result"
    }
   ],
   "source": [
    "nd = df[df.isnull().any(axis=1)]\n",
    "nd.head()"
   ]
  },
  {
   "cell_type": "code",
   "execution_count": 41,
   "metadata": {},
   "outputs": [
    {
     "data": {
      "text/html": [
       "<div>\n",
       "<style scoped>\n",
       "    .dataframe tbody tr th:only-of-type {\n",
       "        vertical-align: middle;\n",
       "    }\n",
       "\n",
       "    .dataframe tbody tr th {\n",
       "        vertical-align: top;\n",
       "    }\n",
       "\n",
       "    .dataframe thead th {\n",
       "        text-align: right;\n",
       "    }\n",
       "</style>\n",
       "<table border=\"1\" class=\"dataframe\">\n",
       "  <thead>\n",
       "    <tr style=\"text-align: right;\">\n",
       "      <th></th>\n",
       "      <th>access_level</th>\n",
       "      <th>first_name</th>\n",
       "      <th>last_name</th>\n",
       "      <th>email</th>\n",
       "      <th>title</th>\n",
       "    </tr>\n",
       "    <tr>\n",
       "      <th>id</th>\n",
       "      <th></th>\n",
       "      <th></th>\n",
       "      <th></th>\n",
       "      <th></th>\n",
       "      <th></th>\n",
       "    </tr>\n",
       "  </thead>\n",
       "  <tbody>\n",
       "    <tr>\n",
       "      <th>EMP003037</th>\n",
       "      <td>Approval-Manager</td>\n",
       "      <td>Juliana</td>\n",
       "      <td>Burbudge</td>\n",
       "      <td>juliana.burbudge@consultants.com</td>\n",
       "      <td>Director of Sales</td>\n",
       "    </tr>\n",
       "    <tr>\n",
       "      <th>EMP003045</th>\n",
       "      <td>Contract Entry</td>\n",
       "      <td>Lizzie</td>\n",
       "      <td>Blue</td>\n",
       "      <td>lizzie.blue@consultants.com</td>\n",
       "      <td>Sales Assistant</td>\n",
       "    </tr>\n",
       "    <tr>\n",
       "      <th>EMP003051</th>\n",
       "      <td>Contract Entry</td>\n",
       "      <td>Marjory</td>\n",
       "      <td>Selcraig</td>\n",
       "      <td>marjory.selcraig@consultants.com</td>\n",
       "      <td>Sales Assistant</td>\n",
       "    </tr>\n",
       "    <tr>\n",
       "      <th>EMP003068</th>\n",
       "      <td>Contract Entry</td>\n",
       "      <td>Aguste</td>\n",
       "      <td>O'Connor</td>\n",
       "      <td>aguste.o'connor@consultants.com</td>\n",
       "      <td>Sales Assistant</td>\n",
       "    </tr>\n",
       "    <tr>\n",
       "      <th>EMP003097</th>\n",
       "      <td>Account Admin</td>\n",
       "      <td>Clemens</td>\n",
       "      <td>Kopman</td>\n",
       "      <td>clemens.kopman@consultants.com</td>\n",
       "      <td>Account Manager</td>\n",
       "    </tr>\n",
       "  </tbody>\n",
       "</table>\n",
       "</div>"
      ],
      "text/plain": [
       "               access_level first_name last_name  \\\n",
       "id                                                 \n",
       "EMP003037  Approval-Manager    Juliana  Burbudge   \n",
       "EMP003045    Contract Entry     Lizzie      Blue   \n",
       "EMP003051    Contract Entry    Marjory  Selcraig   \n",
       "EMP003068    Contract Entry     Aguste  O'Connor   \n",
       "EMP003097     Account Admin    Clemens    Kopman   \n",
       "\n",
       "                                      email              title  \n",
       "id                                                              \n",
       "EMP003037  juliana.burbudge@consultants.com  Director of Sales  \n",
       "EMP003045       lizzie.blue@consultants.com    Sales Assistant  \n",
       "EMP003051  marjory.selcraig@consultants.com    Sales Assistant  \n",
       "EMP003068   aguste.o'connor@consultants.com    Sales Assistant  \n",
       "EMP003097    clemens.kopman@consultants.com    Account Manager  "
      ]
     },
     "execution_count": 41,
     "metadata": {},
     "output_type": "execute_result"
    }
   ],
   "source": [
    "df.loc[df['title'] == \"Director of Sales\", 'access_level'] = \"Approval-Manager\"\n",
    "df.loc[df['title'] == \"Account Manager\", 'access_level'] = \"Account Admin\"\n",
    "df.loc[df['title'] == \"Sales Assistant\", 'access_level'] = \"Contract Entry\"\n",
    "df.head()"
   ]
  },
  {
   "cell_type": "code",
   "execution_count": 42,
   "metadata": {},
   "outputs": [],
   "source": [
    "df.to_csv(r'C:\\\\Users\\\\firne\\\\bip-python-unh\\\\user_audit\\\\Final.csv')"
   ]
  },
  {
   "cell_type": "code",
   "execution_count": null,
   "metadata": {},
   "outputs": [],
   "source": []
  }
 ],
 "metadata": {
  "kernelspec": {
   "display_name": "Python 3",
   "language": "python",
   "name": "python3"
  },
  "language_info": {
   "codemirror_mode": {
    "name": "ipython",
    "version": 3
   },
   "file_extension": ".py",
   "mimetype": "text/x-python",
   "name": "python",
   "nbconvert_exporter": "python",
   "pygments_lexer": "ipython3",
   "version": "3.8.5"
  }
 },
 "nbformat": 4,
 "nbformat_minor": 4
}
